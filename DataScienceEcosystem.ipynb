{
 "cells": [
  {
   "cell_type": "markdown",
   "id": "78aca155-75f9-4358-a03b-f979951b3b7a",
   "metadata": {},
   "source": [
    "# Data Science Tools and Ecosystem"
   ]
  },
  {
   "cell_type": "markdown",
   "id": "2514620d-06e9-4954-ade5-e2f551105b36",
   "metadata": {},
   "source": [
    "## In this notebook, Data Science Tools and Ecosystem are summarized."
   ]
  },
  {
   "cell_type": "markdown",
   "id": "173b61e5-8d13-4eba-a3a0-2f9fbf379ef7",
   "metadata": {},
   "source": [
    "__Objectives:__\n",
    "- List popular languages for Data Science\n",
    "- List popular libraries for Data Science\n",
    "- List three tools for Data Science\n",
    "- Perform some arithmetic operations\n",
    "- Upload your notebook on GitHub"
   ]
  },
  {
   "cell_type": "markdown",
   "id": "4b2c19bb-a34a-4d12-bea0-75489ea8f38c",
   "metadata": {},
   "source": [
    "### Some of the popular languages that Data Scientists use are:\n",
    "1. Python\n",
    "2. SQL\n",
    "3. R\n",
    "4. Scala\n",
    "5. Java"
   ]
  },
  {
   "cell_type": "markdown",
   "id": "4fbe4a7c-2468-459f-b2dc-3f675c4f7f81",
   "metadata": {},
   "source": [
    "### Some of the popular libraries that Data Scientists use are:\n",
    "1. Pandas\n",
    "2. NumPy\n",
    "3. ScikitLearn\n",
    "4. Seaborn\n",
    "5. Matplotlib"
   ]
  },
  {
   "cell_type": "markdown",
   "id": "af4ab1e0-37aa-490b-b8ca-559aa826b30e",
   "metadata": {},
   "source": [
    "| Data Science Tools |\n",
    "|--------------------|\n",
    "| Jupyter Notebook   |\n",
    "| RStudio            |\n",
    "| IBM Watson Studio  |\n"
   ]
  },
  {
   "cell_type": "markdown",
   "id": "e6c10a5f-c78b-4768-a4ef-9d6508eece5a",
   "metadata": {},
   "source": [
    "### Below are a few examples of evaluating arithmetic expressions in Python"
   ]
  },
  {
   "cell_type": "code",
   "execution_count": 2,
   "id": "6de959c7-df9f-4ce8-8cc7-c6838a28ed23",
   "metadata": {
    "tags": []
   },
   "outputs": [
    {
     "data": {
      "text/plain": [
       "17.0"
      ]
     },
     "execution_count": 2,
     "metadata": {},
     "output_type": "execute_result"
    }
   ],
   "source": [
    "# This a simple arithmetic expression to mutiply then add integers\n",
    "\n",
    "(3*4)+5.\n"
   ]
  },
  {
   "cell_type": "code",
   "execution_count": 3,
   "id": "fe67d76f-b9b6-4eef-949d-22ea8207c90c",
   "metadata": {
    "tags": []
   },
   "outputs": [
    {
     "data": {
      "text/plain": [
       "3.3333333333333335"
      ]
     },
     "execution_count": 3,
     "metadata": {},
     "output_type": "execute_result"
    }
   ],
   "source": [
    "# This will convert 200 minutes to hours by diving by 60\n",
    "\n",
    "200/60"
   ]
  },
  {
   "cell_type": "markdown",
   "id": "7f16720b-253f-4a7a-afc0-3c13a9f1b70a",
   "metadata": {},
   "source": [
    "## Author\n",
    "Chukwudubem Okereke"
   ]
  },
  {
   "cell_type": "code",
   "execution_count": null,
   "id": "6e9443b6-55cd-4e69-a4b9-c3cb4ec3fb71",
   "metadata": {},
   "outputs": [],
   "source": []
  }
 ],
 "metadata": {
  "kernelspec": {
   "display_name": "Python",
   "language": "python",
   "name": "conda-env-python-py"
  },
  "language_info": {
   "codemirror_mode": {
    "name": "ipython",
    "version": 3
   },
   "file_extension": ".py",
   "mimetype": "text/x-python",
   "name": "python",
   "nbconvert_exporter": "python",
   "pygments_lexer": "ipython3",
   "version": "3.7.12"
  }
 },
 "nbformat": 4,
 "nbformat_minor": 5
}
